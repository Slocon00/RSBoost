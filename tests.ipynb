{
 "cells": [
  {
   "cell_type": "code",
   "execution_count": 1,
   "metadata": {},
   "outputs": [],
   "source": [
    "import numpy as np\n",
    "import pandas as pd\n",
    "import matplotlib.pyplot as plt\n",
    "\n",
    "from sklearn.metrics import mean_squared_error\n",
    "from sklearn.model_selection import train_test_split, GridSearchCV, RandomizedSearchCV\n",
    "import xgboost as xgb"
   ]
  },
  {
   "cell_type": "markdown",
   "metadata": {},
   "source": [
    "# Allstate insurance claim"
   ]
  },
  {
   "cell_type": "code",
   "execution_count": null,
   "metadata": {},
   "outputs": [],
   "source": [
    "allstate = pd.read_csv('datasets/Allstate/train_set.zip')\n",
    "allstate"
   ]
  },
  {
   "cell_type": "markdown",
   "metadata": {},
   "source": [
    "# Criteo click log"
   ]
  },
  {
   "cell_type": "code",
   "execution_count": null,
   "metadata": {},
   "outputs": [],
   "source": [
    "criteo = pd.read_csv('datasets/Criteo/random_submission.csv')\n",
    "criteo"
   ]
  },
  {
   "cell_type": "markdown",
   "metadata": {},
   "source": [
    "# Higgs boson dataset"
   ]
  },
  {
   "cell_type": "code",
   "execution_count": null,
   "metadata": {},
   "outputs": [],
   "source": [
    "higgs = pd.read_csv('datasets/HIGGS.csv.gz', header=None)\n",
    "higgs"
   ]
  },
  {
   "cell_type": "markdown",
   "metadata": {},
   "source": [
    "# Yahoo LtR challenge"
   ]
  },
  {
   "cell_type": "code",
   "execution_count": 2,
   "metadata": {},
   "outputs": [],
   "source": [
    "def parser(filename):\n",
    "    with open(filename, 'r') as f:\n",
    "        rel_scores = []\n",
    "        qids = []\n",
    "        features = {}\n",
    "        for line in f:\n",
    "            data = line.split()\n",
    "            rel_scores.append(int(data[0]))\n",
    "            qids.append(int(data[1].split(':')[1]))\n",
    "\n",
    "            for pair in data[2:]:\n",
    "                col, val = pair.split(':')\n",
    "                col = int(col)\n",
    "                val = float(val)\n",
    "\n",
    "                if col not in features:\n",
    "                    features[col] = [0.0] * (len(rel_scores)-1)\n",
    "                features[col].append(val)\n",
    "            \n",
    "            for i in range(max(features.keys()) + 1):\n",
    "                if i not in features:\n",
    "                    features[i] = [0.0] * len(rel_scores)\n",
    "                if len(features[i]) < len(rel_scores):\n",
    "                    features[i].extend([0.0] * (len(rel_scores) - len(features[i])))\n",
    "    \n",
    "    features['score'] = rel_scores\n",
    "    features['qid'] = qids\n",
    "\n",
    "    return pd.DataFrame(data=features)"
   ]
  },
  {
   "cell_type": "code",
   "execution_count": null,
   "metadata": {},
   "outputs": [],
   "source": [
    "yahoo = parser('datasets/Yahoo/ltrc_yahoo/set2.train.txt')\n",
    "yahoo"
   ]
  }
 ],
 "metadata": {
  "kernelspec": {
   "display_name": "general",
   "language": "python",
   "name": "python3"
  },
  "language_info": {
   "codemirror_mode": {
    "name": "ipython",
    "version": 3
   },
   "file_extension": ".py",
   "mimetype": "text/x-python",
   "name": "python",
   "nbconvert_exporter": "python",
   "pygments_lexer": "ipython3",
   "version": "3.11.10"
  }
 },
 "nbformat": 4,
 "nbformat_minor": 2
}
