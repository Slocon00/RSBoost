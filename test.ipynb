{
 "cells": [
  {
   "cell_type": "code",
   "execution_count": 1,
   "metadata": {},
   "outputs": [],
   "source": [
    "import numpy as np\n",
    "import pandas as pd\n",
    "from gboosting import XGBTreeClassifier, XGBTreeRegressor\n",
    "import xgboost as xgb"
   ]
  },
  {
   "cell_type": "markdown",
   "metadata": {},
   "source": [
    "### Binary classification"
   ]
  },
  {
   "cell_type": "code",
   "execution_count": 2,
   "metadata": {},
   "outputs": [],
   "source": [
    "from sklearn.metrics import accuracy_score"
   ]
  },
  {
   "cell_type": "code",
   "execution_count": 3,
   "metadata": {},
   "outputs": [],
   "source": [
    "def parse_monks(filename):\n",
    "    data = pd.read_csv(filename, sep=' ', header=None, skipinitialspace=True)\n",
    "    data = data.iloc[:,:-1] \n",
    "    y = data[0].values\n",
    "    X = pd.get_dummies(data.drop(0,axis=1),\n",
    "                       columns=[1,2,3,4,5,6]).values.astype(int)\n",
    "    return X, y"
   ]
  },
  {
   "cell_type": "markdown",
   "metadata": {},
   "source": [
    "#### Monk 1"
   ]
  },
  {
   "cell_type": "code",
   "execution_count": 4,
   "metadata": {},
   "outputs": [],
   "source": [
    "X_tr, y_tr = parse_monks('datasets/Monks/monks-1.train')\n",
    "X_ts, y_ts = parse_monks('datasets/Monks/monks-1.test')"
   ]
  },
  {
   "cell_type": "code",
   "execution_count": 7,
   "metadata": {},
   "outputs": [
    {
     "name": "stderr",
     "output_type": "stream",
     "text": [
      "  0%|          | 0/100 [00:00<?, ?it/s]"
     ]
    },
    {
     "name": "stderr",
     "output_type": "stream",
     "text": [
      "100%|██████████| 100/100 [00:00<00:00, 132.21it/s]"
     ]
    },
    {
     "name": "stdout",
     "output_type": "stream",
     "text": [
      "TRAIN\t| 1.0\n",
      "TEST\t| 1.0\n"
     ]
    },
    {
     "name": "stderr",
     "output_type": "stream",
     "text": [
      "\n"
     ]
    }
   ],
   "source": [
    "my_gbm = XGBTreeClassifier(n_estimators=100,\n",
    "                           max_depth=4,\n",
    "                           eta=0.5,\n",
    "                           lmbda=0.9,\n",
    "                           gamma=0.0)\n",
    "my_gbm.fit(X_tr, y_tr, verbose=True)\n",
    "\n",
    "print('TRAIN\\t|', accuracy_score(y_tr, my_gbm.predict(X_tr)))\n",
    "print('TEST\\t|', accuracy_score(y_ts, my_gbm.predict(X_ts)))"
   ]
  },
  {
   "cell_type": "code",
   "execution_count": 6,
   "metadata": {},
   "outputs": [
    {
     "name": "stdout",
     "output_type": "stream",
     "text": [
      "TRAIN\t| 1.0\n",
      "TEST\t| 1.0\n"
     ]
    }
   ],
   "source": [
    "official_xgb = xgb.XGBClassifier(n_estimators=100,\n",
    "                                 max_depth=4,\n",
    "                                 learning_rate=0.5,\n",
    "                                 reg_lambda=0.9,\n",
    "                                 gamma=0.0)\n",
    "official_xgb.fit(X_tr, y_tr)\n",
    "\n",
    "print('TRAIN\\t|', accuracy_score(y_tr, official_xgb.predict(X_tr)))\n",
    "print('TEST\\t|', accuracy_score(y_ts, official_xgb.predict(X_ts)))"
   ]
  },
  {
   "cell_type": "markdown",
   "metadata": {},
   "source": [
    "#### Monk 2"
   ]
  },
  {
   "cell_type": "code",
   "execution_count": 8,
   "metadata": {},
   "outputs": [],
   "source": [
    "X_tr, y_tr = parse_monks('datasets/Monks/monks-2.train')\n",
    "X_ts, y_ts = parse_monks('datasets/Monks/monks-2.test')"
   ]
  },
  {
   "cell_type": "code",
   "execution_count": 19,
   "metadata": {},
   "outputs": [
    {
     "name": "stderr",
     "output_type": "stream",
     "text": [
      "  0%|          | 0/1000 [00:00<?, ?it/s]"
     ]
    },
    {
     "name": "stderr",
     "output_type": "stream",
     "text": [
      " 55%|█████▍    | 545/1000 [00:29<00:24, 18.33it/s]"
     ]
    },
    {
     "name": "stdout",
     "output_type": "stream",
     "text": [
      "TRAIN\t| 1.0\n",
      "TEST\t| 0.8101851851851852\n"
     ]
    },
    {
     "name": "stderr",
     "output_type": "stream",
     "text": [
      "\n"
     ]
    }
   ],
   "source": [
    "my_gbm = XGBTreeClassifier(n_estimators=1000,\n",
    "                           max_depth=8,\n",
    "                           eta=0.1,\n",
    "                           lmbda=0.5,\n",
    "                           gamma=0.0)\n",
    "my_gbm.fit(X_tr, y_tr, verbose=True)\n",
    "\n",
    "print('TRAIN\\t|', accuracy_score(y_tr, my_gbm.predict(X_tr)))\n",
    "print('TEST\\t|', accuracy_score(y_ts, my_gbm.predict(X_ts)))"
   ]
  },
  {
   "cell_type": "code",
   "execution_count": 10,
   "metadata": {},
   "outputs": [
    {
     "name": "stdout",
     "output_type": "stream",
     "text": [
      "TRAIN\t| 1.0\n",
      "TEST\t| 0.7962962962962963\n"
     ]
    }
   ],
   "source": [
    "official_xgb = xgb.XGBClassifier(n_estimators=20,\n",
    "                                 max_depth=8,\n",
    "                                 learning_rate=0.5,\n",
    "                                 reg_lambda=0.5,\n",
    "                                 gamma=0.0)\n",
    "official_xgb.fit(X_tr, y_tr)\n",
    "\n",
    "print('TRAIN\\t|', accuracy_score(y_tr, official_xgb.predict(X_tr)))\n",
    "print('TEST\\t|', accuracy_score(y_ts, official_xgb.predict(X_ts)))"
   ]
  },
  {
   "cell_type": "code",
   "execution_count": null,
   "metadata": {},
   "outputs": [],
   "source": []
  },
  {
   "cell_type": "code",
   "execution_count": null,
   "metadata": {},
   "outputs": [],
   "source": []
  }
 ],
 "metadata": {
  "kernelspec": {
   "display_name": "general",
   "language": "python",
   "name": "python3"
  },
  "language_info": {
   "codemirror_mode": {
    "name": "ipython",
    "version": 3
   },
   "file_extension": ".py",
   "mimetype": "text/x-python",
   "name": "python",
   "nbconvert_exporter": "python",
   "pygments_lexer": "ipython3",
   "version": "3.11.10"
  }
 },
 "nbformat": 4,
 "nbformat_minor": 2
}
