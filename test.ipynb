{
 "cells": [
  {
   "cell_type": "code",
   "execution_count": 1,
   "metadata": {},
   "outputs": [],
   "source": [
    "import numpy as np\n",
    "import pandas as pd\n",
    "from gboosting import XGBTreeModel\n",
    "import xgboost as xgb"
   ]
  },
  {
   "cell_type": "code",
   "execution_count": 2,
   "metadata": {},
   "outputs": [],
   "source": [
    "X = np.random.randint(10, size=(5, 3))\n",
    "y = np.random.randint(2, size=(5,))"
   ]
  },
  {
   "cell_type": "code",
   "execution_count": null,
   "metadata": {},
   "outputs": [],
   "source": [
    "from tree import Tree, _Node\n",
    "\n",
    "tree = Tree(max_depth=4)\n",
    "tree.fit(X, y)"
   ]
  },
  {
   "cell_type": "code",
   "execution_count": 4,
   "metadata": {},
   "outputs": [
    {
     "data": {
      "text/plain": [
       "array([1., 1., 0., 1., 1.])"
      ]
     },
     "execution_count": 4,
     "metadata": {},
     "output_type": "execute_result"
    }
   ],
   "source": [
    "tree.predict(X)"
   ]
  },
  {
   "cell_type": "code",
   "execution_count": 5,
   "metadata": {},
   "outputs": [
    {
     "name": "stderr",
     "output_type": "stream",
     "text": [
      "100%|██████████| 50/50 [00:00<00:00, 960.74it/s]\n"
     ]
    }
   ],
   "source": [
    "my_gbm = XGBTreeModel(n_estimators=50)\n",
    "my_gbm.fit(X, y, verbose=True)"
   ]
  },
  {
   "cell_type": "code",
   "execution_count": 6,
   "metadata": {},
   "outputs": [
    {
     "data": {
      "text/plain": [
       "array([ 0.55555556,  0.55555556, -0.55555556,  0.55555556,  0.55555556])"
      ]
     },
     "execution_count": 6,
     "metadata": {},
     "output_type": "execute_result"
    }
   ],
   "source": [
    "my_gbm.predict(X)"
   ]
  },
  {
   "cell_type": "code",
   "execution_count": 49,
   "metadata": {},
   "outputs": [],
   "source": [
    "def parse_monks(filename):\n",
    "    data = pd.read_csv(filename, sep=' ', header=None, skipinitialspace=True)\n",
    "    data = data.iloc[:,:-1] \n",
    "    y = data[0].values\n",
    "    X = pd.get_dummies(data.drop(0,axis=1),\n",
    "                       columns=[1,2,3,4,5,6]).values.astype(int)\n",
    "    return X, y\n"
   ]
  },
  {
   "cell_type": "code",
   "execution_count": 50,
   "metadata": {},
   "outputs": [],
   "source": [
    "X, y = parse_monks('datasets/Monks/monks-1.train')"
   ]
  },
  {
   "cell_type": "code",
   "execution_count": 58,
   "metadata": {},
   "outputs": [
    {
     "name": "stderr",
     "output_type": "stream",
     "text": [
      "100%|██████████| 15/15 [00:00<00:00, 63.17it/s]\n"
     ]
    }
   ],
   "source": [
    "my_gbm = XGBTreeModel(n_estimators=15, max_depth=8, eta=0.5, lmbda=0.25)\n",
    "my_gbm.fit(X, y, verbose=True)"
   ]
  },
  {
   "cell_type": "code",
   "execution_count": 60,
   "metadata": {},
   "outputs": [
    {
     "data": {
      "text/plain": [
       "array([1, 1, 1, 1, 1, 1, 1, 1, 1, 1, 0, 0, 0, 1, 0, 0, 0, 0, 0, 0, 0, 0,\n",
       "       0, 0, 0, 0, 0, 0, 0, 0, 1, 0, 0, 0, 0, 0, 1, 0, 0, 0, 0, 1, 0, 0,\n",
       "       0, 0, 0, 1, 1, 0, 0, 0, 0, 0, 0, 0, 0, 0, 0, 0, 0, 1, 1, 1, 1, 1,\n",
       "       1, 1, 1, 1, 1, 1, 1, 1, 1, 1, 1, 1, 0, 1, 0, 0, 0, 1, 1, 0, 0, 1,\n",
       "       1, 1, 0, 0, 1, 0, 0, 0, 0, 1, 0, 1, 0, 1, 1, 0, 1, 0, 0, 1, 1, 1,\n",
       "       1, 1, 1, 1, 1, 1, 1, 1, 1, 1, 1, 1, 1, 1])"
      ]
     },
     "execution_count": 60,
     "metadata": {},
     "output_type": "execute_result"
    }
   ],
   "source": [
    "y"
   ]
  },
  {
   "cell_type": "code",
   "execution_count": 59,
   "metadata": {},
   "outputs": [
    {
     "data": {
      "text/plain": [
       "array([ 0.99996948,  0.99996948,  0.99996948,  0.99996948,  0.99996948,\n",
       "        0.99996948,  0.99996948,  0.99996948,  0.99996948,  0.99996948,\n",
       "       -0.99996948, -0.99996948, -0.99996948,  0.99996948, -0.99996948,\n",
       "       -0.99996948, -0.99996948, -0.99996948, -0.99996948, -0.99996948,\n",
       "       -0.99996948, -0.99996948, -0.99996948, -0.99996948, -0.99996948,\n",
       "       -0.99996948, -0.99996948, -0.99996948, -0.99996948, -0.99996948,\n",
       "        0.99996948, -0.99996948, -0.99996948, -0.99996948, -0.99996948,\n",
       "       -0.99996948,  0.99996948, -0.99996948, -0.99996948, -0.99996948,\n",
       "       -0.99996948,  0.99996948, -0.99996948, -0.99996948, -0.99996948,\n",
       "       -0.99996948, -0.99996948,  0.99996948,  0.99996948, -0.99996948,\n",
       "       -0.99996948, -0.99996948, -0.99996948, -0.99996948, -0.99996948,\n",
       "       -0.99996948, -0.99996948, -0.99996948, -0.99996948, -0.99996948,\n",
       "       -0.99996948,  0.99996948,  0.99996948,  0.99996948,  0.99996948,\n",
       "        0.99996948,  0.99996948,  0.99996948,  0.99996948,  0.99996948,\n",
       "        0.99996948,  0.99996948,  0.99996948,  0.99996948,  0.        ,\n",
       "        0.99996948,  0.99996948,  0.99996948, -0.99996948,  0.99996948,\n",
       "       -0.99996948, -0.99996948, -0.99996948,  0.99996948,  0.99996948,\n",
       "        0.        , -0.99996948,  0.99996948,  0.99996948,  0.99996948,\n",
       "       -0.99996948, -0.99996948,  0.99996948, -0.99996948, -0.99996948,\n",
       "       -0.99996948, -0.99996948,  0.99996948, -0.99996948,  0.99996948,\n",
       "        0.        ,  0.99996948,  0.99996948, -0.99996948,  0.99996948,\n",
       "       -0.99996948, -0.99996948,  0.99996948,  0.99996948,  0.99996948,\n",
       "        0.99996948,  0.        ,  0.99996948,  0.99996948,  0.99996948,\n",
       "        0.99996948,  0.99996948,  0.99996948,  0.99996948,  0.99996948,\n",
       "        0.99996948,  0.99996948,  0.99996948,  0.99996948])"
      ]
     },
     "execution_count": 59,
     "metadata": {},
     "output_type": "execute_result"
    }
   ],
   "source": [
    "my_gbm.predict(X)"
   ]
  },
  {
   "cell_type": "code",
   "execution_count": null,
   "metadata": {},
   "outputs": [],
   "source": []
  }
 ],
 "metadata": {
  "kernelspec": {
   "display_name": "general",
   "language": "python",
   "name": "python3"
  },
  "language_info": {
   "codemirror_mode": {
    "name": "ipython",
    "version": 3
   },
   "file_extension": ".py",
   "mimetype": "text/x-python",
   "name": "python",
   "nbconvert_exporter": "python",
   "pygments_lexer": "ipython3",
   "version": "3.11.10"
  }
 },
 "nbformat": 4,
 "nbformat_minor": 2
}
