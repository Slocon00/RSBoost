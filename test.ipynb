{
 "cells": [
  {
   "cell_type": "code",
   "execution_count": 1,
   "metadata": {},
   "outputs": [],
   "source": [
    "import numpy as np\n",
    "import pandas as pd\n",
    "from gboosting import XGBTreeClassifier, XGBTreeRegressor\n",
    "import xgboost as xgb\n",
    "from sklearn.model_selection import train_test_split\n",
    "from sklearn.metrics import roc_auc_score\n",
    "from sklearn.metrics import accuracy_score\n",
    "import time"
   ]
  },
  {
   "cell_type": "markdown",
   "metadata": {},
   "source": [
    "### Binary classification"
   ]
  },
  {
   "cell_type": "code",
   "execution_count": 9,
   "metadata": {},
   "outputs": [],
   "source": [
    "def parse_monks(filename):\n",
    "    data = pd.read_csv(filename, sep=' ', header=None, skipinitialspace=True)\n",
    "    data = data.iloc[:,:-1] \n",
    "    y = data[0].values\n",
    "    X = pd.get_dummies(data.drop(0,axis=1),\n",
    "                       columns=[1,2,3,4,5,6]).values.astype(int)\n",
    "    return X, y"
   ]
  },
  {
   "cell_type": "markdown",
   "metadata": {},
   "source": [
    "#### Monk 1"
   ]
  },
  {
   "cell_type": "code",
   "execution_count": 10,
   "metadata": {},
   "outputs": [],
   "source": [
    "X_tr, y_tr = parse_monks('datasets/Monks/monks-1.train')\n",
    "X_ts, y_ts = parse_monks('datasets/Monks/monks-1.test')"
   ]
  },
  {
   "cell_type": "code",
   "execution_count": 11,
   "metadata": {},
   "outputs": [
    {
     "name": "stderr",
     "output_type": "stream",
     "text": [
      "100%|██████████| 100/100 [00:00<00:00, 137.63it/s]"
     ]
    },
    {
     "name": "stdout",
     "output_type": "stream",
     "text": [
      "TRAIN\t| 1.0\n",
      "TEST\t| 1.0\n"
     ]
    },
    {
     "name": "stderr",
     "output_type": "stream",
     "text": [
      "\n"
     ]
    }
   ],
   "source": [
    "my_gbm = XGBTreeClassifier(n_estimators=100,\n",
    "                           max_depth=4,\n",
    "                           eta=0.5,\n",
    "                           lmbda=0.9,\n",
    "                           gamma=0.0)\n",
    "my_gbm.fit(X_tr, y_tr, verbose=True)\n",
    "\n",
    "print('TRAIN\\t|', accuracy_score(y_tr, my_gbm.predict(X_tr)))\n",
    "print('TEST\\t|', accuracy_score(y_ts, my_gbm.predict(X_ts)))"
   ]
  },
  {
   "cell_type": "code",
   "execution_count": 12,
   "metadata": {},
   "outputs": [
    {
     "name": "stdout",
     "output_type": "stream",
     "text": [
      "TRAIN\t| 1.0\n",
      "TEST\t| 1.0\n"
     ]
    }
   ],
   "source": [
    "official_xgb = xgb.XGBClassifier(n_estimators=100,\n",
    "                                 max_depth=4,\n",
    "                                 learning_rate=0.5,\n",
    "                                 reg_lambda=0.9,\n",
    "                                 gamma=0.0)\n",
    "official_xgb.fit(X_tr, y_tr)\n",
    "\n",
    "print('TRAIN\\t|', accuracy_score(y_tr, official_xgb.predict(X_tr)))\n",
    "print('TEST\\t|', accuracy_score(y_ts, official_xgb.predict(X_ts)))"
   ]
  },
  {
   "cell_type": "markdown",
   "metadata": {},
   "source": [
    "#### Monk 2"
   ]
  },
  {
   "cell_type": "code",
   "execution_count": 13,
   "metadata": {},
   "outputs": [],
   "source": [
    "X_tr, y_tr = parse_monks('datasets/Monks/monks-2.train')\n",
    "X_ts, y_ts = parse_monks('datasets/Monks/monks-2.test')"
   ]
  },
  {
   "cell_type": "code",
   "execution_count": 19,
   "metadata": {},
   "outputs": [
    {
     "name": "stderr",
     "output_type": "stream",
     "text": [
      "  2%|▏         | 22/1000 [00:01<00:46, 20.88it/s]"
     ]
    }
   ],
   "source": [
    "my_gbm = XGBTreeClassifier(n_estimators=1000,\n",
    "                           max_depth=8,\n",
    "                           eta=0.1,\n",
    "                           lmbda=0.5,\n",
    "                           gamma=0.0)\n",
    "my_gbm.fit(X_tr, y_tr, verbose=True)\n",
    "\n",
    "print('TRAIN\\t|', accuracy_score(y_tr, my_gbm.predict(X_tr)))\n",
    "print('TEST\\t|', accuracy_score(y_ts, my_gbm.predict(X_ts)))"
   ]
  },
  {
   "cell_type": "code",
   "execution_count": 10,
   "metadata": {},
   "outputs": [
    {
     "name": "stdout",
     "output_type": "stream",
     "text": [
      "TRAIN\t| 1.0\n",
      "TEST\t| 0.7962962962962963\n"
     ]
    }
   ],
   "source": [
    "official_xgb = xgb.XGBClassifier(n_estimators=20,\n",
    "                                 max_depth=8,\n",
    "                                 learning_rate=0.5,\n",
    "                                 reg_lambda=0.5,\n",
    "                                 gamma=0.0)\n",
    "official_xgb.fit(X_tr, y_tr)\n",
    "\n",
    "print('TRAIN\\t|', accuracy_score(y_tr, official_xgb.predict(X_tr)))\n",
    "print('TEST\\t|', accuracy_score(y_ts, official_xgb.predict(X_ts)))"
   ]
  },
  {
   "cell_type": "markdown",
   "metadata": {},
   "source": [
    "## Higgs"
   ]
  },
  {
   "cell_type": "code",
   "execution_count": 2,
   "metadata": {},
   "outputs": [],
   "source": [
    "higgs = pd.read_csv('./datasets/HIGGS.csv.gz', header=None, nrows=11000)\n",
    "X_tr, X_ts, y_tr, y_ts = train_test_split(higgs.iloc[:, 1:], higgs.iloc[:, 0], train_size=0.8, random_state=0)"
   ]
  },
  {
   "cell_type": "code",
   "execution_count": 3,
   "metadata": {},
   "outputs": [
    {
     "data": {
      "text/plain": [
       "(11000, 29)"
      ]
     },
     "execution_count": 3,
     "metadata": {},
     "output_type": "execute_result"
    }
   ],
   "source": [
    "higgs.shape"
   ]
  },
  {
   "cell_type": "code",
   "execution_count": 4,
   "metadata": {},
   "outputs": [
    {
     "name": "stdout",
     "output_type": "stream",
     "text": [
      "0.5426208972930908\n",
      "TRAIN\t| 0.8893181818181818\n",
      "TEST\t| 0.7063636363636364\n"
     ]
    }
   ],
   "source": [
    "xgbcls = xgb.XGBClassifier(n_estimators=300,\n",
    "                           max_depth=4,\n",
    "                           learning_rate=0.1,\n",
    "                           reg_lambda=0.1,\n",
    "                           gamma=0.1,\n",
    "                           )\n",
    "start = time.time()\n",
    "xgbcls.fit(X_tr, y_tr)\n",
    "end = time.time()\n",
    "\n",
    "print((end-start))\n",
    "\n",
    "print('TRAIN\\t|', accuracy_score(y_tr, xgbcls.predict(X_tr)))\n",
    "print('TEST\\t|', accuracy_score(y_ts, xgbcls.predict(X_ts)))"
   ]
  },
  {
   "cell_type": "code",
   "execution_count": 5,
   "metadata": {},
   "outputs": [
    {
     "name": "stdout",
     "output_type": "stream",
     "text": [
      "0.4938797950744629\n",
      "TRAIN\t| 0.8893181818181818\n",
      "TEST\t| 0.7063636363636364\n"
     ]
    }
   ],
   "source": [
    "xgbcls = xgb.XGBClassifier(n_estimators=300,\n",
    "                           max_depth=4,\n",
    "                           learning_rate=0.1,\n",
    "                           reg_lambda=0.1,\n",
    "                           gamma=0.1,\n",
    "                           tree_method='hist'\n",
    "                           )\n",
    "start = time.time()\n",
    "xgbcls.fit(X_tr, y_tr)\n",
    "end = time.time()\n",
    "\n",
    "print((end-start))\n",
    "\n",
    "print('TRAIN\\t|', accuracy_score(y_tr, xgbcls.predict(X_tr)))\n",
    "print('TEST\\t|', accuracy_score(y_ts, xgbcls.predict(X_ts)))"
   ]
  },
  {
   "cell_type": "code",
   "execution_count": 6,
   "metadata": {},
   "outputs": [
    {
     "name": "stderr",
     "output_type": "stream",
     "text": [
      " 91%|█████████ | 273/300 [11:13<01:06,  2.47s/it]\n"
     ]
    },
    {
     "name": "stdout",
     "output_type": "stream",
     "text": [
      "673.8626136779785\n",
      "TRAIN\t| 0.9364772727272728\n",
      "TEST\t| 0.6518181818181819\n"
     ]
    }
   ],
   "source": [
    "cls = XGBTreeClassifier(n_estimators=300,\n",
    "                        algorithm='exact',\n",
    "                        max_depth=8,\n",
    "                        row_subsample=0.1,\n",
    "                        eta=0.1,\n",
    "                        lmbda=0.1,\n",
    "                        gamma=0.1,\n",
    "                        )\n",
    "\n",
    "start = time.time()\n",
    "cls.fit(X_tr.values, y_tr.values, verbose=True, thresh=1e-5)\n",
    "end = time.time()\n",
    "\n",
    "print((end - start))\n",
    "\n",
    "print('TRAIN\\t|', accuracy_score(y_tr, cls.predict(X_tr.values)))\n",
    "print('TEST\\t|', accuracy_score(y_ts, cls.predict(X_ts.values)))"
   ]
  },
  {
   "cell_type": "code",
   "execution_count": 9,
   "metadata": {},
   "outputs": [
    {
     "name": "stderr",
     "output_type": "stream",
     "text": [
      "\n",
      "\u001b[A"
     ]
    },
    {
     "ename": "ValueError",
     "evalue": "Unknown algorithm type: approx",
     "output_type": "error",
     "traceback": [
      "\u001b[0;31m---------------------------------------------------------------------------\u001b[0m",
      "\u001b[0;31mValueError\u001b[0m                                Traceback (most recent call last)",
      "Cell \u001b[0;32mIn[9], line 12\u001b[0m\n\u001b[1;32m      1\u001b[0m \u001b[38;5;28mcls\u001b[39m \u001b[38;5;241m=\u001b[39m XGBTreeClassifier(n_estimators\u001b[38;5;241m=\u001b[39m\u001b[38;5;241m300\u001b[39m,\n\u001b[1;32m      2\u001b[0m                         algorithm\u001b[38;5;241m=\u001b[39m\u001b[38;5;124m'\u001b[39m\u001b[38;5;124mapprox\u001b[39m\u001b[38;5;124m'\u001b[39m,\n\u001b[1;32m      3\u001b[0m                         epsilon\u001b[38;5;241m=\u001b[39m\u001b[38;5;241m0.1\u001b[39m,\n\u001b[0;32m   (...)\u001b[0m\n\u001b[1;32m      8\u001b[0m                         gamma\u001b[38;5;241m=\u001b[39m\u001b[38;5;241m0.1\u001b[39m,\n\u001b[1;32m      9\u001b[0m                         )\n\u001b[1;32m     11\u001b[0m start \u001b[38;5;241m=\u001b[39m time\u001b[38;5;241m.\u001b[39mtime()\n\u001b[0;32m---> 12\u001b[0m \u001b[38;5;28;43mcls\u001b[39;49m\u001b[38;5;241;43m.\u001b[39;49m\u001b[43mfit\u001b[49m\u001b[43m(\u001b[49m\u001b[43mX_tr\u001b[49m\u001b[38;5;241;43m.\u001b[39;49m\u001b[43mvalues\u001b[49m\u001b[43m,\u001b[49m\u001b[43m \u001b[49m\u001b[43my_tr\u001b[49m\u001b[38;5;241;43m.\u001b[39;49m\u001b[43mvalues\u001b[49m\u001b[43m,\u001b[49m\u001b[43m \u001b[49m\u001b[43mverbose\u001b[49m\u001b[38;5;241;43m=\u001b[39;49m\u001b[38;5;28;43;01mTrue\u001b[39;49;00m\u001b[43m,\u001b[49m\u001b[43m \u001b[49m\u001b[43mthresh\u001b[49m\u001b[38;5;241;43m=\u001b[39;49m\u001b[38;5;241;43m1e-5\u001b[39;49m\u001b[43m)\u001b[49m\n\u001b[1;32m     13\u001b[0m end \u001b[38;5;241m=\u001b[39m time\u001b[38;5;241m.\u001b[39mtime()\n\u001b[1;32m     15\u001b[0m \u001b[38;5;28mprint\u001b[39m((end \u001b[38;5;241m-\u001b[39m start))\n",
      "File \u001b[0;32m~/Documents/University/Courses/[IR]Information_Retrival/IR-Project/gboosting.py:173\u001b[0m, in \u001b[0;36mXGBTreeClassifier.fit\u001b[0;34m(self, X, y, verbose, thresh)\u001b[0m\n\u001b[1;32m    167\u001b[0m \u001b[38;5;28;01mdef\u001b[39;00m\u001b[38;5;250m \u001b[39m\u001b[38;5;21mfit\u001b[39m(\u001b[38;5;28mself\u001b[39m,\n\u001b[1;32m    168\u001b[0m         X: np\u001b[38;5;241m.\u001b[39mndarray,\n\u001b[1;32m    169\u001b[0m         y: np\u001b[38;5;241m.\u001b[39mndarray,\n\u001b[1;32m    170\u001b[0m         verbose: \u001b[38;5;28mbool\u001b[39m \u001b[38;5;241m=\u001b[39m \u001b[38;5;28;01mFalse\u001b[39;00m,\n\u001b[1;32m    171\u001b[0m         thresh: \u001b[38;5;28mfloat\u001b[39m \u001b[38;5;241m=\u001b[39m \u001b[38;5;241m1e-4\u001b[39m):\n\u001b[1;32m    172\u001b[0m \u001b[38;5;250m    \u001b[39m\u001b[38;5;124;03m'''Produce a fitted model.'''\u001b[39;00m\n\u001b[0;32m--> 173\u001b[0m     \u001b[38;5;28;43msuper\u001b[39;49m\u001b[43m(\u001b[49m\u001b[43m)\u001b[49m\u001b[38;5;241;43m.\u001b[39;49m\u001b[43mfit\u001b[49m\u001b[43m(\u001b[49m\u001b[43mX\u001b[49m\u001b[43m,\u001b[49m\u001b[43m \u001b[49m\u001b[43my\u001b[49m\u001b[43m,\u001b[49m\u001b[43m \u001b[49m\u001b[43mverbose\u001b[49m\u001b[43m,\u001b[49m\u001b[43m \u001b[49m\u001b[43mthresh\u001b[49m\u001b[43m)\u001b[49m\n",
      "File \u001b[0;32m~/Documents/University/Courses/[IR]Information_Retrival/IR-Project/gboosting.py:96\u001b[0m, in \u001b[0;36m_XGBTreeModel.fit\u001b[0;34m(self, X, y, verbose, thresh)\u001b[0m\n\u001b[1;32m     91\u001b[0m \u001b[38;5;28;01mif\u001b[39;00m \u001b[38;5;28mself\u001b[39m\u001b[38;5;241m.\u001b[39mrow_subsample \u001b[38;5;241m<\u001b[39m \u001b[38;5;241m1.0\u001b[39m:\n\u001b[1;32m     92\u001b[0m     row_sample \u001b[38;5;241m=\u001b[39m \u001b[38;5;28mself\u001b[39m\u001b[38;5;241m.\u001b[39mgenerator\u001b[38;5;241m.\u001b[39mchoice(X\u001b[38;5;241m.\u001b[39mshape[\u001b[38;5;241m0\u001b[39m],\n\u001b[1;32m     93\u001b[0m                                        \u001b[38;5;28mint\u001b[39m(X\u001b[38;5;241m.\u001b[39mshape[\u001b[38;5;241m0\u001b[39m] \u001b[38;5;241m*\u001b[39m \u001b[38;5;28mself\u001b[39m\u001b[38;5;241m.\u001b[39mrow_subsample),\n\u001b[1;32m     94\u001b[0m                                        replace\u001b[38;5;241m=\u001b[39m\u001b[38;5;28;01mFalse\u001b[39;00m)\n\u001b[0;32m---> 96\u001b[0m tree \u001b[38;5;241m=\u001b[39m \u001b[43mRSTree\u001b[49m\u001b[43m(\u001b[49m\u001b[43mmax_depth\u001b[49m\u001b[38;5;241;43m=\u001b[39;49m\u001b[38;5;28;43mself\u001b[39;49m\u001b[38;5;241;43m.\u001b[39;49m\u001b[43mmax_depth\u001b[49m\u001b[43m,\u001b[49m\n\u001b[1;32m     97\u001b[0m \u001b[43m            \u001b[49m\u001b[43mlmbda\u001b[49m\u001b[38;5;241;43m=\u001b[39;49m\u001b[38;5;28;43mself\u001b[39;49m\u001b[38;5;241;43m.\u001b[39;49m\u001b[43mlmbda\u001b[49m\u001b[43m,\u001b[49m\n\u001b[1;32m     98\u001b[0m \u001b[43m            \u001b[49m\u001b[43mgamma\u001b[49m\u001b[38;5;241;43m=\u001b[39;49m\u001b[38;5;28;43mself\u001b[39;49m\u001b[38;5;241;43m.\u001b[39;49m\u001b[43mgamma\u001b[49m\u001b[43m,\u001b[49m\n\u001b[1;32m     99\u001b[0m \u001b[43m            \u001b[49m\u001b[43malgorithm\u001b[49m\u001b[38;5;241;43m=\u001b[39;49m\u001b[38;5;28;43mself\u001b[39;49m\u001b[38;5;241;43m.\u001b[39;49m\u001b[43malgorithm\u001b[49m\u001b[43m,\u001b[49m\n\u001b[1;32m    100\u001b[0m \u001b[43m            \u001b[49m\u001b[43mepsilon\u001b[49m\u001b[38;5;241;43m=\u001b[39;49m\u001b[38;5;28;43mself\u001b[39;49m\u001b[38;5;241;43m.\u001b[39;49m\u001b[43mepsilon\u001b[49m\u001b[43m)\u001b[49m\n\u001b[1;32m    102\u001b[0m tree\u001b[38;5;241m.\u001b[39mfit(X[row_sample,:][:,col_sample],\n\u001b[1;32m    103\u001b[0m          residuals[row_sample],\n\u001b[1;32m    104\u001b[0m          \u001b[38;5;28mself\u001b[39m\u001b[38;5;241m.\u001b[39mgradient(y[row_sample], pred[row_sample]),\n\u001b[1;32m    105\u001b[0m          \u001b[38;5;28mself\u001b[39m\u001b[38;5;241m.\u001b[39mhessian(y[row_sample], pred[row_sample])\n\u001b[1;32m    106\u001b[0m          )\n\u001b[1;32m    108\u001b[0m \u001b[38;5;28;01mif\u001b[39;00m \u001b[38;5;28mself\u001b[39m\u001b[38;5;241m.\u001b[39mloss \u001b[38;5;241m==\u001b[39m \u001b[38;5;124m'\u001b[39m\u001b[38;5;124mlogistic\u001b[39m\u001b[38;5;124m'\u001b[39m:\n\u001b[1;32m    109\u001b[0m     \u001b[38;5;66;03m# convert pred to log odds, add to prediction,\u001b[39;00m\n\u001b[1;32m    110\u001b[0m     \u001b[38;5;66;03m# then convert back to probability\u001b[39;00m\n",
      "File \u001b[0;32m~/Documents/University/Courses/[IR]Information_Retrival/IR-Project/tree.py:147\u001b[0m, in \u001b[0;36mRSTree.__init__\u001b[0;34m(self, max_depth, lmbda, gamma, algorithm, epsilon)\u001b[0m\n\u001b[1;32m    145\u001b[0m \u001b[38;5;28mself\u001b[39m\u001b[38;5;241m.\u001b[39mlmbda \u001b[38;5;241m=\u001b[39m lmbda\n\u001b[1;32m    146\u001b[0m \u001b[38;5;28mself\u001b[39m\u001b[38;5;241m.\u001b[39mgamma \u001b[38;5;241m=\u001b[39m gamma\n\u001b[0;32m--> 147\u001b[0m \u001b[38;5;28mself\u001b[39m\u001b[38;5;241m.\u001b[39malgorithm \u001b[38;5;241m=\u001b[39m \u001b[43m_AlgorithmT\u001b[49m\u001b[38;5;241;43m.\u001b[39;49m\u001b[43mfrom_str\u001b[49m\u001b[43m(\u001b[49m\u001b[43malgorithm\u001b[49m\u001b[43m,\u001b[49m\u001b[43m \u001b[49m\u001b[43mepsilon\u001b[49m\u001b[43m)\u001b[49m\n\u001b[1;32m    148\u001b[0m \u001b[38;5;28mself\u001b[39m\u001b[38;5;241m.\u001b[39mranks: \u001b[38;5;28mlist\u001b[39m[\u001b[38;5;28mint\u001b[39m] \u001b[38;5;241m=\u001b[39m []\n\u001b[1;32m    149\u001b[0m \u001b[38;5;28mself\u001b[39m\u001b[38;5;241m.\u001b[39mchildren: \u001b[38;5;28mlist\u001b[39m[_ChildrenT] \u001b[38;5;241m=\u001b[39m []\n",
      "File \u001b[0;32m~/Documents/University/Courses/[IR]Information_Retrival/IR-Project/tree.py:88\u001b[0m, in \u001b[0;36m_AlgorithmT.from_str\u001b[0;34m(cls, name, epsilon)\u001b[0m\n\u001b[1;32m     86\u001b[0m     \u001b[38;5;28;01mreturn\u001b[39;00m _Approximate(epsilon\u001b[38;5;241m=\u001b[39mepsilon)\n\u001b[1;32m     87\u001b[0m \u001b[38;5;28;01melse\u001b[39;00m:\n\u001b[0;32m---> 88\u001b[0m     \u001b[38;5;28;01mraise\u001b[39;00m \u001b[38;5;167;01mValueError\u001b[39;00m(\u001b[38;5;124mf\u001b[39m\u001b[38;5;124m\"\u001b[39m\u001b[38;5;124mUnknown algorithm type: \u001b[39m\u001b[38;5;132;01m{\u001b[39;00mname\u001b[38;5;132;01m}\u001b[39;00m\u001b[38;5;124m\"\u001b[39m)\n",
      "\u001b[0;31mValueError\u001b[0m: Unknown algorithm type: approx"
     ]
    }
   ],
   "source": [
    "cls = XGBTreeClassifier(n_estimators=300,\n",
    "                        algorithm='approx',\n",
    "                        epsilon=0.1,\n",
    "                        max_depth=8,\n",
    "                        row_subsample=0.1,\n",
    "                        eta=0.1,\n",
    "                        lmbda=0.1,\n",
    "                        gamma=0.1,\n",
    "                        )\n",
    "\n",
    "start = time.time()\n",
    "cls.fit(X_tr.values, y_tr.values, verbose=True, thresh=1e-5)\n",
    "end = time.time()\n",
    "\n",
    "print((end - start))\n",
    "\n",
    "print('TRAIN\\t|', accuracy_score(y_tr, cls.predict(X_tr.values)))\n",
    "print('TEST\\t|', accuracy_score(y_ts, cls.predict(X_ts.values)))"
   ]
  },
  {
   "cell_type": "code",
   "execution_count": null,
   "metadata": {},
   "outputs": [],
   "source": []
  },
  {
   "cell_type": "markdown",
   "metadata": {},
   "source": [
    "## Criteo"
   ]
  },
  {
   "cell_type": "code",
   "execution_count": 7,
   "metadata": {},
   "outputs": [],
   "source": [
    "criteo = pd.read_csv('./datasets/criteo.gz', nrows=100000)\n",
    "criteo.fillna(0, inplace=True)\n",
    "criteo = criteo.sample(6000)\n",
    "\n",
    "#ohe categorical features\n",
    "criteo = pd.get_dummies(criteo, columns=criteo.columns[13:-1], drop_first=True)\n",
    "X_tr, X_ts, y_tr, y_ts = train_test_split(criteo.drop(columns=['label']), criteo['label'], stratify=criteo['label'], train_size=0.8, random_state=0)"
   ]
  },
  {
   "cell_type": "code",
   "execution_count": 8,
   "metadata": {},
   "outputs": [
    {
     "data": {
      "text/plain": [
       "Index(['0', '1', '2', '3', '4', '5', '6', '7', '8', '9',\n",
       "       ...\n",
       "       '38_fe56b763', '38_fe913524', '38_ff2edb72', '38_ff34bde9',\n",
       "       '38_ff7dd6cd', '38_ff86d5e0', '38_ffda9301', '38_ffe5d2de',\n",
       "       '38_ffef2a68', '38_fffa8e76'],\n",
       "      dtype='object', length=31512)"
      ]
     },
     "execution_count": 8,
     "metadata": {},
     "output_type": "execute_result"
    }
   ],
   "source": [
    "criteo.columns"
   ]
  },
  {
   "cell_type": "code",
   "execution_count": null,
   "metadata": {},
   "outputs": [
    {
     "name": "stdout",
     "output_type": "stream",
     "text": [
      "0.06778019269307455\n",
      "TRAIN\t| 0.934375\n",
      "TEST\t| 0.7991666666666667\n"
     ]
    }
   ],
   "source": [
    "xgbcls = xgb.XGBClassifier(n_estimators=300,\n",
    "                           max_depth=8,\n",
    "                           learning_rate=0.1,\n",
    "                           reg_lambda=0.5,\n",
    "                           gamma=0.5,\n",
    "                           )\n",
    "start = time.time()\n",
    "xgbcls.fit(X_tr, y_tr)\n",
    "end = time.time()\n",
    "\n",
    "print((end-start))\n",
    "\n",
    "print('TRAIN\\t|', accuracy_score(y_tr, xgbcls.predict(X_tr)))\n",
    "print('TEST\\t|', accuracy_score(y_ts, xgbcls.predict(X_ts)))"
   ]
  },
  {
   "cell_type": "code",
   "execution_count": null,
   "metadata": {},
   "outputs": [
    {
     "name": "stdout",
     "output_type": "stream",
     "text": [
      "0.2636940638224284\n",
      "TRAIN\t| 0.9370833333333334\n",
      "TEST\t| 0.78\n"
     ]
    }
   ],
   "source": [
    "xgbcls = xgb.XGBClassifier(n_estimators=300,\n",
    "                           max_depth=8,\n",
    "                           learning_rate=0.1,\n",
    "                           reg_lambda=0.5,\n",
    "                           gamma=0.5,\n",
    "                           tree_method='hist'\n",
    "                           )\n",
    "start = time.time()\n",
    "xgbcls.fit(X_tr, y_tr)\n",
    "end = time.time()\n",
    "\n",
    "print((end-start))\n",
    "\n",
    "print('TRAIN\\t|', accuracy_score(y_tr, xgbcls.predict(X_tr)))\n",
    "print('TEST\\t|', accuracy_score(y_ts, xgbcls.predict(X_ts)))"
   ]
  },
  {
   "cell_type": "code",
   "execution_count": null,
   "metadata": {},
   "outputs": [
    {
     "name": "stderr",
     "output_type": "stream",
     "text": [
      " 51%|█████     | 152/300 [2:22:43<2:18:57, 56.34s/it]\n"
     ]
    },
    {
     "name": "stdout",
     "output_type": "stream",
     "text": [
      "28.564884440104166\n",
      "TRAIN\t| 0.88375\n",
      "TEST\t| 0.7475\n"
     ]
    }
   ],
   "source": [
    "cls = XGBTreeClassifier(n_estimators=300,\n",
    "                        algorithm='exact',\n",
    "                        max_depth=4,\n",
    "                        row_subsample=0.1,\n",
    "                        eta=0.1,\n",
    "                        lmbda=0.5,\n",
    "                        gamma=0.5,\n",
    "                        )\n",
    "\n",
    "start = time.time()\n",
    "cls.fit(X_tr.values, y_tr.values, verbose=True)\n",
    "end = time.time()\n",
    "\n",
    "print((end - start))\n",
    "print('TRAIN\\t|', accuracy_score(y_tr, cls.predict(X_tr.values)))\n",
    "print('TEST\\t|', accuracy_score(y_ts, cls.predict(X_ts.values)))"
   ]
  },
  {
   "cell_type": "code",
   "execution_count": null,
   "metadata": {},
   "outputs": [
    {
     "name": "stderr",
     "output_type": "stream",
     "text": [
      "100%|██████████| 300/300 [1:44:24<00:00, 20.88s/it]\n"
     ]
    },
    {
     "name": "stdout",
     "output_type": "stream",
     "text": [
      "20.90076855023702\n",
      "TRAIN\t| 0.8425\n",
      "TEST\t| 0.7633333333333333\n"
     ]
    }
   ],
   "source": [
    "cls = XGBTreeClassifier(n_estimators=300,\n",
    "                        algorithm='approx',\n",
    "                        eta=0.1,\n",
    "                        max_depth=4,\n",
    "                        row_subsample=0.1,\n",
    "                        epsilon=0.1,\n",
    "                        lmbda=0.5,\n",
    "                        gamma=0.5,\n",
    "                        )\n",
    "\n",
    "start = time.time()\n",
    "cls.fit(X_tr.values, y_tr.values, verbose=True)\n",
    "end = time.time()\n",
    "\n",
    "print((end - start))\n",
    "print('TRAIN\\t|', accuracy_score(y_tr, cls.predict(X_tr.values)))\n",
    "print('TEST\\t|', accuracy_score(y_ts, cls.predict(X_ts.values)))"
   ]
  }
 ],
 "metadata": {
  "kernelspec": {
   "display_name": "general",
   "language": "python",
   "name": "python3"
  },
  "language_info": {
   "codemirror_mode": {
    "name": "ipython",
    "version": 3
   },
   "file_extension": ".py",
   "mimetype": "text/x-python",
   "name": "python",
   "nbconvert_exporter": "python",
   "pygments_lexer": "ipython3",
   "version": "3.11.10"
  }
 },
 "nbformat": 4,
 "nbformat_minor": 2
}
