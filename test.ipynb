{
 "cells": [
  {
   "cell_type": "code",
   "execution_count": 1,
   "metadata": {},
   "outputs": [],
   "source": [
    "import numpy as np\n",
    "import pandas as pd\n",
    "from gboosting import XGBTreeClassifier, XGBTreeRegressor\n",
    "import xgboost as xgb\n",
    "from sklearn.model_selection import train_test_split\n",
    "from sklearn.metrics import roc_auc_score\n",
    "from sklearn.metrics import accuracy_score\n",
    "import time"
   ]
  },
  {
   "cell_type": "markdown",
   "metadata": {},
   "source": [
    "### Binary classification"
   ]
  },
  {
   "cell_type": "code",
   "execution_count": 9,
   "metadata": {},
   "outputs": [],
   "source": [
    "def parse_monks(filename):\n",
    "    data = pd.read_csv(filename, sep=' ', header=None, skipinitialspace=True)\n",
    "    data = data.iloc[:,:-1] \n",
    "    y = data[0].values\n",
    "    X = pd.get_dummies(data.drop(0,axis=1),\n",
    "                       columns=[1,2,3,4,5,6]).values.astype(int)\n",
    "    return X, y"
   ]
  },
  {
   "cell_type": "markdown",
   "metadata": {},
   "source": [
    "#### Monk 1"
   ]
  },
  {
   "cell_type": "code",
   "execution_count": 10,
   "metadata": {},
   "outputs": [],
   "source": [
    "X_tr, y_tr = parse_monks('datasets/Monks/monks-1.train')\n",
    "X_ts, y_ts = parse_monks('datasets/Monks/monks-1.test')"
   ]
  },
  {
   "cell_type": "code",
   "execution_count": 11,
   "metadata": {},
   "outputs": [
    {
     "name": "stderr",
     "output_type": "stream",
     "text": [
      "100%|██████████| 100/100 [00:00<00:00, 137.63it/s]"
     ]
    },
    {
     "name": "stdout",
     "output_type": "stream",
     "text": [
      "TRAIN\t| 1.0\n",
      "TEST\t| 1.0\n"
     ]
    },
    {
     "name": "stderr",
     "output_type": "stream",
     "text": [
      "\n"
     ]
    }
   ],
   "source": [
    "my_gbm = XGBTreeClassifier(n_estimators=100,\n",
    "                           max_depth=4,\n",
    "                           eta=0.5,\n",
    "                           lmbda=0.9,\n",
    "                           gamma=0.0)\n",
    "my_gbm.fit(X_tr, y_tr, verbose=True)\n",
    "\n",
    "print('TRAIN\\t|', accuracy_score(y_tr, my_gbm.predict(X_tr)))\n",
    "print('TEST\\t|', accuracy_score(y_ts, my_gbm.predict(X_ts)))"
   ]
  },
  {
   "cell_type": "code",
   "execution_count": 12,
   "metadata": {},
   "outputs": [
    {
     "name": "stdout",
     "output_type": "stream",
     "text": [
      "TRAIN\t| 1.0\n",
      "TEST\t| 1.0\n"
     ]
    }
   ],
   "source": [
    "official_xgb = xgb.XGBClassifier(n_estimators=100,\n",
    "                                 max_depth=4,\n",
    "                                 learning_rate=0.5,\n",
    "                                 reg_lambda=0.9,\n",
    "                                 gamma=0.0)\n",
    "official_xgb.fit(X_tr, y_tr)\n",
    "\n",
    "print('TRAIN\\t|', accuracy_score(y_tr, official_xgb.predict(X_tr)))\n",
    "print('TEST\\t|', accuracy_score(y_ts, official_xgb.predict(X_ts)))"
   ]
  },
  {
   "cell_type": "markdown",
   "metadata": {},
   "source": [
    "#### Monk 2"
   ]
  },
  {
   "cell_type": "code",
   "execution_count": 13,
   "metadata": {},
   "outputs": [],
   "source": [
    "X_tr, y_tr = parse_monks('datasets/Monks/monks-2.train')\n",
    "X_ts, y_ts = parse_monks('datasets/Monks/monks-2.test')"
   ]
  },
  {
   "cell_type": "code",
   "execution_count": 19,
   "metadata": {},
   "outputs": [
    {
     "name": "stderr",
     "output_type": "stream",
     "text": [
      "  2%|▏         | 22/1000 [00:01<00:46, 20.88it/s]"
     ]
    }
   ],
   "source": [
    "my_gbm = XGBTreeClassifier(n_estimators=1000,\n",
    "                           max_depth=8,\n",
    "                           eta=0.1,\n",
    "                           lmbda=0.5,\n",
    "                           gamma=0.0)\n",
    "my_gbm.fit(X_tr, y_tr, verbose=True)\n",
    "\n",
    "print('TRAIN\\t|', accuracy_score(y_tr, my_gbm.predict(X_tr)))\n",
    "print('TEST\\t|', accuracy_score(y_ts, my_gbm.predict(X_ts)))"
   ]
  },
  {
   "cell_type": "code",
   "execution_count": 10,
   "metadata": {},
   "outputs": [
    {
     "name": "stdout",
     "output_type": "stream",
     "text": [
      "TRAIN\t| 1.0\n",
      "TEST\t| 0.7962962962962963\n"
     ]
    }
   ],
   "source": [
    "official_xgb = xgb.XGBClassifier(n_estimators=20,\n",
    "                                 max_depth=8,\n",
    "                                 learning_rate=0.5,\n",
    "                                 reg_lambda=0.5,\n",
    "                                 gamma=0.0)\n",
    "official_xgb.fit(X_tr, y_tr)\n",
    "\n",
    "print('TRAIN\\t|', accuracy_score(y_tr, official_xgb.predict(X_tr)))\n",
    "print('TEST\\t|', accuracy_score(y_ts, official_xgb.predict(X_ts)))"
   ]
  },
  {
   "cell_type": "markdown",
   "metadata": {},
   "source": [
    "## Higgs"
   ]
  },
  {
   "cell_type": "code",
   "execution_count": 3,
   "metadata": {},
   "outputs": [],
   "source": [
    "higgs = pd.read_csv('./datasets/HIGGS.csv.gz', header=None, nrows=1100)\n",
    "X_tr, X_ts, y_tr, y_ts = train_test_split(higgs.iloc[:, 1:], higgs.iloc[:, 0], train_size=0.8, random_state=0)"
   ]
  },
  {
   "cell_type": "code",
   "execution_count": 7,
   "metadata": {},
   "outputs": [
    {
     "name": "stdout",
     "output_type": "stream",
     "text": [
      "0.36350083351135254\n",
      "TRAIN\t| 0.9943181818181818\n",
      "TEST\t| 0.6818181818181818\n"
     ]
    }
   ],
   "source": [
    "xgbcls = xgb.XGBClassifier(n_estimators=300,\n",
    "                           max_depth=4,\n",
    "                           learning_rate=0.1,\n",
    "                           reg_lambda=0.5,\n",
    "                           gamma=0.5,\n",
    "                           tree_method='hist'\n",
    "                           )\n",
    "start = time.time()\n",
    "xgbcls.fit(X_tr, y_tr)\n",
    "end = time.time()\n",
    "\n",
    "print((end-start))\n",
    "\n",
    "print('TRAIN\\t|', accuracy_score(y_tr, xgbcls.predict(X_tr)))\n",
    "print('TEST\\t|', accuracy_score(y_ts, xgbcls.predict(X_ts)))"
   ]
  },
  {
   "cell_type": "code",
   "execution_count": 6,
   "metadata": {},
   "outputs": [
    {
     "name": "stderr",
     "output_type": "stream",
     "text": [
      "100%|██████████| 300/300 [08:42<00:00,  1.74s/it]\n"
     ]
    },
    {
     "name": "stdout",
     "output_type": "stream",
     "text": [
      "522.0694720745087\n",
      "TRAIN\t| 0.6818181818181818\n",
      "TEST\t| 0.509090909090909\n"
     ]
    }
   ],
   "source": [
    "cls = XGBTreeClassifier(n_estimators=300,\n",
    "                        algorithm='approx',\n",
    "                        epsilon=0.01,\n",
    "                        max_depth=8,\n",
    "                        row_subsample=1.0,\n",
    "                        eta=0.1,\n",
    "                        lmbda=0.5,\n",
    "                        gamma=0.5,\n",
    "                        )\n",
    "\n",
    "start = time.time()\n",
    "cls.fit(X_tr.values, y_tr.values, verbose=True, thresh=1e-5)\n",
    "end = time.time()\n",
    "\n",
    "print((end - start))\n",
    "\n",
    "print('TRAIN\\t|', accuracy_score(y_tr, cls.predict(X_tr.values)))\n",
    "print('TEST\\t|', accuracy_score(y_ts, cls.predict(X_ts.values)))"
   ]
  },
  {
   "cell_type": "code",
   "execution_count": 9,
   "metadata": {},
   "outputs": [
    {
     "name": "stderr",
     "output_type": "stream",
     "text": [
      "100%|██████████| 300/300 [07:15<00:00,  1.45s/it]\n"
     ]
    },
    {
     "name": "stdout",
     "output_type": "stream",
     "text": [
      "435.2975127696991\n",
      "TRAIN\t| 1.0\n",
      "TEST\t| 0.6681818181818182\n"
     ]
    }
   ],
   "source": [
    "cls = XGBTreeClassifier(n_estimators=300,\n",
    "                        algorithm='exact',\n",
    "                        max_depth=8,\n",
    "                        row_subsample=1.0,\n",
    "                        eta=0.1,\n",
    "                        lmbda=0.5,\n",
    "                        gamma=0.5,\n",
    "                        )\n",
    "\n",
    "start = time.time()\n",
    "cls.fit(X_tr.values, y_tr.values, verbose=True, thresh=1e-5)\n",
    "end = time.time()\n",
    "\n",
    "print((end - start))\n",
    "\n",
    "print('TRAIN\\t|', accuracy_score(y_tr, cls.predict(X_tr.values)))\n",
    "print('TEST\\t|', accuracy_score(y_ts, cls.predict(X_ts.values)))"
   ]
  },
  {
   "cell_type": "markdown",
   "metadata": {},
   "source": [
    "## Criteo"
   ]
  },
  {
   "cell_type": "code",
   "execution_count": 5,
   "metadata": {},
   "outputs": [],
   "source": [
    "criteo = pd.read_csv('./datasets/criteo.gz', nrows=100000)\n",
    "criteo.fillna(0, inplace=True)\n",
    "criteo = criteo.sample(6000)\n",
    "\n",
    "#ohe categorical features\n",
    "criteo = pd.get_dummies(criteo, columns=criteo.columns[13:-1], drop_first=True)\n",
    "X_tr, X_ts, y_tr, y_ts = train_test_split(criteo.drop(columns=['label']), criteo['label'], stratify=criteo['label'], train_size=0.8, random_state=0)"
   ]
  },
  {
   "cell_type": "code",
   "execution_count": 6,
   "metadata": {},
   "outputs": [
    {
     "data": {
      "text/plain": [
       "Index(['0', '1', '2', '3', '4', '5', '6', '7', '8', '9',\n",
       "       ...\n",
       "       '38_fe9e7bf2', '38_feeee66b', '38_fef634b7', '38_ff3bb6e0',\n",
       "       '38_ff5f3e7f', '38_ff688061', '38_ff6f8ceb', '38_ff86d5e0',\n",
       "       '38_ffef2a68', '38_fffa8e76'],\n",
       "      dtype='object', length=31753)"
      ]
     },
     "execution_count": 6,
     "metadata": {},
     "output_type": "execute_result"
    }
   ],
   "source": [
    "criteo.columns"
   ]
  },
  {
   "cell_type": "code",
   "execution_count": 7,
   "metadata": {},
   "outputs": [
    {
     "name": "stdout",
     "output_type": "stream",
     "text": [
      "104.5875518321991\n",
      "TRAIN\t| 0.9372916666666666\n",
      "TEST\t| 0.7783333333333333\n"
     ]
    }
   ],
   "source": [
    "xgbcls = xgb.XGBClassifier(n_estimators=300,\n",
    "                           max_depth=8,\n",
    "                           learning_rate=0.1,\n",
    "                           reg_lambda=0.5,\n",
    "                           gamma=0.5,\n",
    "                           )\n",
    "start = time.time()\n",
    "xgbcls.fit(X_tr, y_tr)\n",
    "end = time.time()\n",
    "\n",
    "print((end-start))\n",
    "\n",
    "print('TRAIN\\t|', accuracy_score(y_tr, xgbcls.predict(X_tr)))\n",
    "print('TEST\\t|', accuracy_score(y_ts, xgbcls.predict(X_ts)))"
   ]
  },
  {
   "cell_type": "code",
   "execution_count": null,
   "metadata": {},
   "outputs": [],
   "source": [
    "xgbcls = xgb.XGBClassifier(n_estimators=300,\n",
    "                           max_depth=8,\n",
    "                           learning_rate=0.1,\n",
    "                           reg_lambda=0.5,\n",
    "                           gamma=0.5,\n",
    "                           tree_method='hist'\n",
    "                           )\n",
    "start = time.time()\n",
    "xgbcls.fit(X_tr, y_tr)\n",
    "end = time.time()\n",
    "\n",
    "print((end-start))\n",
    "\n",
    "print('TRAIN\\t|', accuracy_score(y_tr, xgbcls.predict(X_tr)))\n",
    "print('TEST\\t|', accuracy_score(y_ts, xgbcls.predict(X_ts)))"
   ]
  },
  {
   "cell_type": "code",
   "execution_count": null,
   "metadata": {},
   "outputs": [
    {
     "name": "stderr",
     "output_type": "stream",
     "text": [
      " 51%|█████     | 152/300 [2:22:43<2:18:57, 56.34s/it]\n"
     ]
    },
    {
     "name": "stdout",
     "output_type": "stream",
     "text": [
      "28.564884440104166\n",
      "TRAIN\t| 0.88375\n",
      "TEST\t| 0.7475\n"
     ]
    }
   ],
   "source": [
    "cls = XGBTreeClassifier(n_estimators=300,\n",
    "                        algorithm='exact',\n",
    "                        max_depth=4,\n",
    "                        row_subsample=0.1,\n",
    "                        eta=0.1,\n",
    "                        lmbda=0.5,\n",
    "                        gamma=0.5,\n",
    "                        )\n",
    "\n",
    "start = time.time()\n",
    "cls.fit(X_tr.values, y_tr.values, verbose=True)\n",
    "end = time.time()\n",
    "\n",
    "print((end - start))\n",
    "print('TRAIN\\t|', accuracy_score(y_tr, cls.predict(X_tr.values)))\n",
    "print('TEST\\t|', accuracy_score(y_ts, cls.predict(X_ts.values)))"
   ]
  },
  {
   "cell_type": "code",
   "execution_count": null,
   "metadata": {},
   "outputs": [
    {
     "name": "stderr",
     "output_type": "stream",
     "text": [
      "100%|██████████| 300/300 [1:44:24<00:00, 20.88s/it]\n"
     ]
    },
    {
     "name": "stdout",
     "output_type": "stream",
     "text": [
      "20.90076855023702\n",
      "TRAIN\t| 0.8425\n",
      "TEST\t| 0.7633333333333333\n"
     ]
    }
   ],
   "source": [
    "cls = XGBTreeClassifier(n_estimators=300,\n",
    "                        algorithm='approx',\n",
    "                        eta=0.1,\n",
    "                        max_depth=4,\n",
    "                        row_subsample=0.1,\n",
    "                        epsilon=0.1,\n",
    "                        lmbda=0.5,\n",
    "                        gamma=0.5,\n",
    "                        )\n",
    "\n",
    "start = time.time()\n",
    "cls.fit(X_tr.values, y_tr.values, verbose=True)\n",
    "end = time.time()\n",
    "\n",
    "print((end - start))\n",
    "print('TRAIN\\t|', accuracy_score(y_tr, cls.predict(X_tr.values)))\n",
    "print('TEST\\t|', accuracy_score(y_ts, cls.predict(X_ts.values)))"
   ]
  },
  {
   "cell_type": "code",
   "execution_count": null,
   "metadata": {},
   "outputs": [],
   "source": []
  }
 ],
 "metadata": {
  "kernelspec": {
   "display_name": "general",
   "language": "python",
   "name": "python3"
  },
  "language_info": {
   "codemirror_mode": {
    "name": "ipython",
    "version": 3
   },
   "file_extension": ".py",
   "mimetype": "text/x-python",
   "name": "python",
   "nbconvert_exporter": "python",
   "pygments_lexer": "ipython3",
   "version": "3.11.10"
  }
 },
 "nbformat": 4,
 "nbformat_minor": 2
}
