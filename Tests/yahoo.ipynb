{
 "cells": [
  {
   "cell_type": "code",
   "execution_count": 1,
   "metadata": {},
   "outputs": [],
   "source": [
    "import numpy as np\n",
    "import pandas as pd\n",
    "import matplotlib.pyplot as plt\n",
    "import seaborn as sns\n",
    "\n",
    "import xgboost as xgb\n",
    "import time\n",
    "\n",
    "from sklearn.metrics import ndcg_score\n",
    "from sklearn.model_selection import train_test_split"
   ]
  },
  {
   "cell_type": "code",
   "execution_count": 2,
   "metadata": {},
   "outputs": [],
   "source": [
    "# Yahoo LtR challenge\n",
    "def parser(filename, length):\n",
    "    with open(filename, 'r') as f:\n",
    "        rel_scores = []\n",
    "        qids = []\n",
    "        features = {}\n",
    "        counter = 0\n",
    "        for line in f:\n",
    "            data = line.split()\n",
    "            rel_scores.append(int(data[0]))\n",
    "            qids.append(int(data[1].split(':')[1]))\n",
    "\n",
    "            for pair in data[2:]:\n",
    "                col, val = pair.split(':')\n",
    "                col = int(col)\n",
    "                val = float(val)\n",
    "\n",
    "                if col not in features:\n",
    "                    features[col] = [0.0] * (len(rel_scores)-1)\n",
    "                features[col].append(val)\n",
    "            \n",
    "            for i in range(max(features.keys()) + 1):\n",
    "                if i not in features.keys():\n",
    "                    features[i] = [0.0] * len(rel_scores)\n",
    "                if len(features[i]) < len(rel_scores):\n",
    "                    features[i].extend([0.0] * (len(rel_scores) - len(features[i])))\n",
    "\n",
    "            counter += 1\n",
    "            if counter == length:\n",
    "                break\n",
    "    \n",
    "    features['score'] = rel_scores\n",
    "    features['qid'] = qids\n",
    "\n",
    "    return pd.DataFrame(data=features)"
   ]
  },
  {
   "cell_type": "code",
   "execution_count": 3,
   "metadata": {},
   "outputs": [],
   "source": [
    "yahoo_train = parser('../datasets/Yahoo/ltrc_yahoo/set2.train.txt', 100000)\n",
    "yahoo_test = parser('../datasets/Yahoo/ltrc_yahoo/set2.test.txt', 10000)"
   ]
  },
  {
   "cell_type": "code",
   "execution_count": 4,
   "metadata": {},
   "outputs": [],
   "source": [
    "X_tr, y_tr = yahoo_train.drop(columns=['score']), yahoo_train['score']\n",
    "X_ts, y_ts = yahoo_test.drop(columns=['score']), yahoo_test['score']\n",
    "\n",
    "quids_tr = X_tr['qid']\n",
    "quids_ts = X_ts['qid']\n",
    "\n",
    "X_tr.drop(columns=['qid'], inplace=True)\n",
    "X_ts.drop(columns=['qid'], inplace=True)"
   ]
  },
  {
   "cell_type": "code",
   "execution_count": 5,
   "metadata": {},
   "outputs": [],
   "source": [
    "X_tr = X_tr.reindex(sorted(X_tr.columns), axis=1)\n",
    "X_ts = X_ts.reindex(sorted(X_ts.columns), axis=1)"
   ]
  },
  {
   "cell_type": "code",
   "execution_count": 6,
   "metadata": {},
   "outputs": [
    {
     "name": "stdout",
     "output_type": "stream",
     "text": [
      "0.47455237579345705\n",
      "0.9092782724164457\n"
     ]
    }
   ],
   "source": [
    "ranker = xgb.XGBRanker(n_estimators=500,\n",
    "                       n_jobs=-1,\n",
    "                       tree_method='exact',\n",
    "                       max_depth=8,\n",
    "                       learning_rate=0.1,\n",
    "                       objective='rank:ndcg')\n",
    "\n",
    "start = time.time()\n",
    "ranker.fit(X_tr, y_tr, qid=quids_tr)\n",
    "end = time.time()\n",
    "\n",
    "print((end - start) / 500)\n",
    "print(ndcg_score(y_ts.values.reshape(1, -1), ranker.predict(X_ts).reshape(1, -1), k=10))"
   ]
  },
  {
   "cell_type": "code",
   "execution_count": 7,
   "metadata": {},
   "outputs": [
    {
     "name": "stdout",
     "output_type": "stream",
     "text": [
      "0.25059660816192625\n",
      "0.9250237420756263\n"
     ]
    }
   ],
   "source": [
    "ranker = xgb.XGBRanker(n_estimators=500,\n",
    "                       n_jobs=-1,\n",
    "                       tree_method='exact',\n",
    "                       max_depth=8,\n",
    "                       learning_rate=0.1,\n",
    "                       colsample_bytree=0.5,\n",
    "                       objective='rank:ndcg')\n",
    "\n",
    "start = time.time()\n",
    "ranker.fit(X_tr, y_tr, qid=yahoo_train['qid'][:100000])\n",
    "end = time.time()\n",
    "\n",
    "print((end - start) / 500)\n",
    "print(ndcg_score(y_ts.values.reshape(1, -1), ranker.predict(X_ts).reshape(1, -1), k=10))"
   ]
  }
 ],
 "metadata": {
  "kernelspec": {
   "display_name": "general",
   "language": "python",
   "name": "python3"
  },
  "language_info": {
   "codemirror_mode": {
    "name": "ipython",
    "version": 3
   },
   "file_extension": ".py",
   "mimetype": "text/x-python",
   "name": "python",
   "nbconvert_exporter": "python",
   "pygments_lexer": "ipython3",
   "version": "3.11.10"
  }
 },
 "nbformat": 4,
 "nbformat_minor": 2
}
